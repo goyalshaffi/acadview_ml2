{
 "cells": [
  {
   "cell_type": "code",
   "execution_count": 4,
   "metadata": {},
   "outputs": [],
   "source": [
    "import sklearn\n",
    "import pandas as pd\n",
    "import numpy as np\n",
    "import matplotlib.pyplot as plt\n",
    "import seaborn as sns\n",
    "%matplotlib inline"
   ]
  },
  {
   "cell_type": "code",
   "execution_count": 5,
   "metadata": {},
   "outputs": [],
   "source": [
    "df=pd.read_csv('Big_mart.csv')"
   ]
  },
  {
   "cell_type": "code",
   "execution_count": 6,
   "metadata": {},
   "outputs": [
    {
     "name": "stdout",
     "output_type": "stream",
     "text": [
      "     Item_Identifier  Item_Weight Item_Fat_Content  Item_Visibility  \\\n",
      "0              FDA15        9.300          Low Fat         0.016047   \n",
      "1              DRC01        5.920          Regular         0.019278   \n",
      "2              FDN15       17.500          Low Fat         0.016760   \n",
      "3              FDX07       19.200          Regular         0.000000   \n",
      "4              NCD19        8.930          Low Fat         0.000000   \n",
      "5              FDP36       10.395          Regular         0.000000   \n",
      "6              FDO10       13.650          Regular         0.012741   \n",
      "7              FDP10          NaN          Low Fat         0.127470   \n",
      "8              FDH17       16.200          Regular         0.016687   \n",
      "9              FDU28       19.200          Regular         0.094450   \n",
      "10             FDY07       11.800          Low Fat         0.000000   \n",
      "11             FDA03       18.500          Regular         0.045464   \n",
      "12             FDX32       15.100          Regular         0.100014   \n",
      "13             FDS46       17.600          Regular         0.047257   \n",
      "14             FDF32       16.350          Low Fat         0.068024   \n",
      "15             FDP49        9.000          Regular         0.069089   \n",
      "16             NCB42       11.800          Low Fat         0.008596   \n",
      "17             FDP49        9.000          Regular         0.069196   \n",
      "18             DRI11          NaN          Low Fat         0.034238   \n",
      "19             FDU02       13.350          Low Fat         0.102492   \n",
      "20             FDN22       18.850          Regular         0.138190   \n",
      "21             FDW12          NaN          Regular         0.035400   \n",
      "22             NCB30       14.600          Low Fat         0.025698   \n",
      "23             FDC37          NaN          Low Fat         0.057557   \n",
      "24             FDR28       13.850          Regular         0.025896   \n",
      "25             NCD06       13.000          Low Fat         0.099887   \n",
      "26             FDV10        7.645          Regular         0.066693   \n",
      "27             DRJ59       11.650          low fat         0.019356   \n",
      "28             FDE51        5.925          Regular         0.161467   \n",
      "29             FDC14          NaN          Regular         0.072222   \n",
      "...              ...          ...              ...              ...   \n",
      "8493           FDP21        7.420          Regular         0.025886   \n",
      "8494           NCI54       15.200          Low Fat         0.000000   \n",
      "8495           FDE22        9.695          Low Fat         0.029567   \n",
      "8496           FDJ57        7.420          Regular         0.021696   \n",
      "8497           FDT08       13.650          Low Fat         0.049209   \n",
      "8498           NCP54       15.350          Low Fat         0.035293   \n",
      "8499           NCK53       11.600          Low Fat         0.037574   \n",
      "8500           NCQ42       20.350          Low Fat         0.000000   \n",
      "8501           FDW21        5.340          Regular         0.005998   \n",
      "8502           NCH43        8.420          Low Fat         0.070712   \n",
      "8503           FDQ44       20.500          Low Fat         0.036133   \n",
      "8504           NCN18          NaN          Low Fat         0.124111   \n",
      "8505           FDB46       10.500          Regular         0.094146   \n",
      "8506           DRF37       17.250          Low Fat         0.084676   \n",
      "8507           FDN28        5.880          Regular         0.030242   \n",
      "8508           FDW31       11.350          Regular         0.043246   \n",
      "8509           FDG45        8.100          Low Fat         0.214306   \n",
      "8510           FDN58       13.800          Regular         0.056862   \n",
      "8511           FDF05       17.500          Low Fat         0.026980   \n",
      "8512           FDR26       20.700          Low Fat         0.042801   \n",
      "8513           FDH31       12.000          Regular         0.020407   \n",
      "8514           FDA01       15.000          Regular         0.054489   \n",
      "8515           FDH24       20.700          Low Fat         0.021518   \n",
      "8516           NCJ19       18.600          Low Fat         0.118661   \n",
      "8517           FDF53       20.750              reg         0.083607   \n",
      "8518           FDF22        6.865          Low Fat         0.056783   \n",
      "8519           FDS36        8.380          Regular         0.046982   \n",
      "8520           NCJ29       10.600          Low Fat         0.035186   \n",
      "8521           FDN46        7.210          Regular         0.145221   \n",
      "8522           DRG01       14.800          Low Fat         0.044878   \n",
      "\n",
      "                  Item_Type  Item_MRP Outlet_Identifier  \\\n",
      "0                     Dairy  249.8092            OUT049   \n",
      "1               Soft Drinks   48.2692            OUT018   \n",
      "2                      Meat  141.6180            OUT049   \n",
      "3     Fruits and Vegetables  182.0950            OUT010   \n",
      "4                 Household   53.8614            OUT013   \n",
      "5              Baking Goods   51.4008            OUT018   \n",
      "6               Snack Foods   57.6588            OUT013   \n",
      "7               Snack Foods  107.7622            OUT027   \n",
      "8              Frozen Foods   96.9726            OUT045   \n",
      "9              Frozen Foods  187.8214            OUT017   \n",
      "10    Fruits and Vegetables   45.5402            OUT049   \n",
      "11                    Dairy  144.1102            OUT046   \n",
      "12    Fruits and Vegetables  145.4786            OUT049   \n",
      "13              Snack Foods  119.6782            OUT046   \n",
      "14    Fruits and Vegetables  196.4426            OUT013   \n",
      "15                Breakfast   56.3614            OUT046   \n",
      "16       Health and Hygiene  115.3492            OUT018   \n",
      "17                Breakfast   54.3614            OUT049   \n",
      "18              Hard Drinks  113.2834            OUT027   \n",
      "19                    Dairy  230.5352            OUT035   \n",
      "20              Snack Foods  250.8724            OUT013   \n",
      "21             Baking Goods  144.5444            OUT027   \n",
      "22                Household  196.5084            OUT035   \n",
      "23             Baking Goods  107.6938            OUT019   \n",
      "24             Frozen Foods  165.0210            OUT046   \n",
      "25                Household   45.9060            OUT017   \n",
      "26              Snack Foods   42.3112            OUT035   \n",
      "27              Hard Drinks   39.1164            OUT013   \n",
      "28                    Dairy   45.5086            OUT010   \n",
      "29                   Canned   43.6454            OUT019   \n",
      "...                     ...       ...               ...   \n",
      "8493            Snack Foods  189.1872            OUT017   \n",
      "8494              Household  110.4912            OUT017   \n",
      "8495            Snack Foods  160.4920            OUT035   \n",
      "8496                Seafood  185.3582            OUT017   \n",
      "8497  Fruits and Vegetables  150.0050            OUT035   \n",
      "8498              Household  124.5730            OUT018   \n",
      "8499     Health and Hygiene  100.0042            OUT035   \n",
      "8500              Household  125.1678            OUT017   \n",
      "8501            Snack Foods  100.4358            OUT017   \n",
      "8502              Household  216.4192            OUT045   \n",
      "8503  Fruits and Vegetables  120.1756            OUT035   \n",
      "8504              Household  111.7544            OUT027   \n",
      "8505            Snack Foods  210.8244            OUT018   \n",
      "8506            Soft Drinks  263.1910            OUT018   \n",
      "8507           Frozen Foods  101.7990            OUT035   \n",
      "8508  Fruits and Vegetables  199.4742            OUT045   \n",
      "8509  Fruits and Vegetables  213.9902            OUT010   \n",
      "8510            Snack Foods  231.5984            OUT035   \n",
      "8511           Frozen Foods  262.5910            OUT018   \n",
      "8512                  Dairy  178.3028            OUT013   \n",
      "8513                   Meat   99.9042            OUT035   \n",
      "8514                 Canned   57.5904            OUT045   \n",
      "8515           Baking Goods  157.5288            OUT018   \n",
      "8516                 Others   58.7588            OUT018   \n",
      "8517           Frozen Foods  178.8318            OUT046   \n",
      "8518            Snack Foods  214.5218            OUT013   \n",
      "8519           Baking Goods  108.1570            OUT045   \n",
      "8520     Health and Hygiene   85.1224            OUT035   \n",
      "8521            Snack Foods  103.1332            OUT018   \n",
      "8522            Soft Drinks   75.4670            OUT046   \n",
      "\n",
      "      Outlet_Establishment_Year Outlet_Size Outlet_Location_Type  \\\n",
      "0                          1999      Medium               Tier 1   \n",
      "1                          2009      Medium               Tier 3   \n",
      "2                          1999      Medium               Tier 1   \n",
      "3                          1998         NaN               Tier 3   \n",
      "4                          1987        High               Tier 3   \n",
      "5                          2009      Medium               Tier 3   \n",
      "6                          1987        High               Tier 3   \n",
      "7                          1985      Medium               Tier 3   \n",
      "8                          2002         NaN               Tier 2   \n",
      "9                          2007         NaN               Tier 2   \n",
      "10                         1999      Medium               Tier 1   \n",
      "11                         1997       Small               Tier 1   \n",
      "12                         1999      Medium               Tier 1   \n",
      "13                         1997       Small               Tier 1   \n",
      "14                         1987        High               Tier 3   \n",
      "15                         1997       Small               Tier 1   \n",
      "16                         2009      Medium               Tier 3   \n",
      "17                         1999      Medium               Tier 1   \n",
      "18                         1985      Medium               Tier 3   \n",
      "19                         2004       Small               Tier 2   \n",
      "20                         1987        High               Tier 3   \n",
      "21                         1985      Medium               Tier 3   \n",
      "22                         2004       Small               Tier 2   \n",
      "23                         1985       Small               Tier 1   \n",
      "24                         1997       Small               Tier 1   \n",
      "25                         2007         NaN               Tier 2   \n",
      "26                         2004       Small               Tier 2   \n",
      "27                         1987        High               Tier 3   \n",
      "28                         1998         NaN               Tier 3   \n",
      "29                         1985       Small               Tier 1   \n",
      "...                         ...         ...                  ...   \n",
      "8493                       2007         NaN               Tier 2   \n",
      "8494                       2007         NaN               Tier 2   \n",
      "8495                       2004       Small               Tier 2   \n",
      "8496                       2007         NaN               Tier 2   \n",
      "8497                       2004       Small               Tier 2   \n",
      "8498                       2009      Medium               Tier 3   \n",
      "8499                       2004       Small               Tier 2   \n",
      "8500                       2007         NaN               Tier 2   \n",
      "8501                       2007         NaN               Tier 2   \n",
      "8502                       2002         NaN               Tier 2   \n",
      "8503                       2004       Small               Tier 2   \n",
      "8504                       1985      Medium               Tier 3   \n",
      "8505                       2009      Medium               Tier 3   \n",
      "8506                       2009      Medium               Tier 3   \n",
      "8507                       2004       Small               Tier 2   \n",
      "8508                       2002         NaN               Tier 2   \n",
      "8509                       1998         NaN               Tier 3   \n",
      "8510                       2004       Small               Tier 2   \n",
      "8511                       2009      Medium               Tier 3   \n",
      "8512                       1987        High               Tier 3   \n",
      "8513                       2004       Small               Tier 2   \n",
      "8514                       2002         NaN               Tier 2   \n",
      "8515                       2009      Medium               Tier 3   \n",
      "8516                       2009      Medium               Tier 3   \n",
      "8517                       1997       Small               Tier 1   \n",
      "8518                       1987        High               Tier 3   \n",
      "8519                       2002         NaN               Tier 2   \n",
      "8520                       2004       Small               Tier 2   \n",
      "8521                       2009      Medium               Tier 3   \n",
      "8522                       1997       Small               Tier 1   \n",
      "\n",
      "            Outlet_Type  Item_Outlet_Sales  \n",
      "0     Supermarket Type1          3735.1380  \n",
      "1     Supermarket Type2           443.4228  \n",
      "2     Supermarket Type1          2097.2700  \n",
      "3         Grocery Store           732.3800  \n",
      "4     Supermarket Type1           994.7052  \n",
      "5     Supermarket Type2           556.6088  \n",
      "6     Supermarket Type1           343.5528  \n",
      "7     Supermarket Type3          4022.7636  \n",
      "8     Supermarket Type1          1076.5986  \n",
      "9     Supermarket Type1          4710.5350  \n",
      "10    Supermarket Type1          1516.0266  \n",
      "11    Supermarket Type1          2187.1530  \n",
      "12    Supermarket Type1          1589.2646  \n",
      "13    Supermarket Type1          2145.2076  \n",
      "14    Supermarket Type1          1977.4260  \n",
      "15    Supermarket Type1          1547.3192  \n",
      "16    Supermarket Type2          1621.8888  \n",
      "17    Supermarket Type1           718.3982  \n",
      "18    Supermarket Type3          2303.6680  \n",
      "19    Supermarket Type1          2748.4224  \n",
      "20    Supermarket Type1          3775.0860  \n",
      "21    Supermarket Type3          4064.0432  \n",
      "22    Supermarket Type1          1587.2672  \n",
      "23        Grocery Store           214.3876  \n",
      "24    Supermarket Type1          4078.0250  \n",
      "25    Supermarket Type1           838.9080  \n",
      "26    Supermarket Type1          1065.2800  \n",
      "27    Supermarket Type1           308.9312  \n",
      "28        Grocery Store           178.4344  \n",
      "29        Grocery Store           125.8362  \n",
      "...                 ...                ...  \n",
      "8493  Supermarket Type1          4727.1800  \n",
      "8494  Supermarket Type1          1637.8680  \n",
      "8495  Supermarket Type1          4314.3840  \n",
      "8496  Supermarket Type1          3715.1640  \n",
      "8497  Supermarket Type1          2247.0750  \n",
      "8498  Supermarket Type2          1601.2490  \n",
      "8499  Supermarket Type1          2976.1260  \n",
      "8500  Supermarket Type1          1907.5170  \n",
      "8501  Supermarket Type1          1508.0370  \n",
      "8502  Supermarket Type1          3020.0688  \n",
      "8503  Supermarket Type1          3392.9168  \n",
      "8504  Supermarket Type3          4138.6128  \n",
      "8505  Supermarket Type2          2117.2440  \n",
      "8506  Supermarket Type2          3944.8650  \n",
      "8507  Supermarket Type1           515.9950  \n",
      "8508  Supermarket Type1          2587.9646  \n",
      "8509      Grocery Store           424.7804  \n",
      "8510  Supermarket Type1          7182.6504  \n",
      "8511  Supermarket Type2          4207.8560  \n",
      "8512  Supermarket Type1          2479.4392  \n",
      "8513  Supermarket Type1           595.2252  \n",
      "8514  Supermarket Type1           468.7232  \n",
      "8515  Supermarket Type2          1571.2880  \n",
      "8516  Supermarket Type2           858.8820  \n",
      "8517  Supermarket Type1          3608.6360  \n",
      "8518  Supermarket Type1          2778.3834  \n",
      "8519  Supermarket Type1           549.2850  \n",
      "8520  Supermarket Type1          1193.1136  \n",
      "8521  Supermarket Type2          1845.5976  \n",
      "8522  Supermarket Type1           765.6700  \n",
      "\n",
      "[8523 rows x 12 columns]\n"
     ]
    }
   ],
   "source": [
    "print(df)"
   ]
  },
  {
   "cell_type": "code",
   "execution_count": 7,
   "metadata": {},
   "outputs": [
    {
     "name": "stdout",
     "output_type": "stream",
     "text": [
      "<class 'pandas.core.frame.DataFrame'>\n",
      "RangeIndex: 8523 entries, 0 to 8522\n",
      "Data columns (total 12 columns):\n",
      "Item_Identifier              8523 non-null object\n",
      "Item_Weight                  7060 non-null float64\n",
      "Item_Fat_Content             8523 non-null object\n",
      "Item_Visibility              8523 non-null float64\n",
      "Item_Type                    8523 non-null object\n",
      "Item_MRP                     8523 non-null float64\n",
      "Outlet_Identifier            8523 non-null object\n",
      "Outlet_Establishment_Year    8523 non-null int64\n",
      "Outlet_Size                  6113 non-null object\n",
      "Outlet_Location_Type         8523 non-null object\n",
      "Outlet_Type                  8523 non-null object\n",
      "Item_Outlet_Sales            8523 non-null float64\n",
      "dtypes: float64(4), int64(1), object(7)\n",
      "memory usage: 799.1+ KB\n"
     ]
    }
   ],
   "source": [
    "df.info()"
   ]
  },
  {
   "cell_type": "code",
   "execution_count": 8,
   "metadata": {},
   "outputs": [
    {
     "data": {
      "text/plain": [
       "Item_Identifier                 0\n",
       "Item_Weight                  1463\n",
       "Item_Fat_Content                0\n",
       "Item_Visibility                 0\n",
       "Item_Type                       0\n",
       "Item_MRP                        0\n",
       "Outlet_Identifier               0\n",
       "Outlet_Establishment_Year       0\n",
       "Outlet_Size                  2410\n",
       "Outlet_Location_Type            0\n",
       "Outlet_Type                     0\n",
       "Item_Outlet_Sales               0\n",
       "dtype: int64"
      ]
     },
     "execution_count": 8,
     "metadata": {},
     "output_type": "execute_result"
    }
   ],
   "source": [
    "df.isnull().sum()"
   ]
  },
  {
   "cell_type": "code",
   "execution_count": 9,
   "metadata": {},
   "outputs": [],
   "source": [
    "df1=df.fillna(0)"
   ]
  },
  {
   "cell_type": "code",
   "execution_count": 10,
   "metadata": {},
   "outputs": [
    {
     "name": "stdout",
     "output_type": "stream",
     "text": [
      "     Item_Identifier  Item_Weight Item_Fat_Content  Item_Visibility  \\\n",
      "0              FDA15        9.300          Low Fat         0.016047   \n",
      "1              DRC01        5.920          Regular         0.019278   \n",
      "2              FDN15       17.500          Low Fat         0.016760   \n",
      "3              FDX07       19.200          Regular         0.000000   \n",
      "4              NCD19        8.930          Low Fat         0.000000   \n",
      "5              FDP36       10.395          Regular         0.000000   \n",
      "6              FDO10       13.650          Regular         0.012741   \n",
      "7              FDP10        0.000          Low Fat         0.127470   \n",
      "8              FDH17       16.200          Regular         0.016687   \n",
      "9              FDU28       19.200          Regular         0.094450   \n",
      "10             FDY07       11.800          Low Fat         0.000000   \n",
      "11             FDA03       18.500          Regular         0.045464   \n",
      "12             FDX32       15.100          Regular         0.100014   \n",
      "13             FDS46       17.600          Regular         0.047257   \n",
      "14             FDF32       16.350          Low Fat         0.068024   \n",
      "15             FDP49        9.000          Regular         0.069089   \n",
      "16             NCB42       11.800          Low Fat         0.008596   \n",
      "17             FDP49        9.000          Regular         0.069196   \n",
      "18             DRI11        0.000          Low Fat         0.034238   \n",
      "19             FDU02       13.350          Low Fat         0.102492   \n",
      "20             FDN22       18.850          Regular         0.138190   \n",
      "21             FDW12        0.000          Regular         0.035400   \n",
      "22             NCB30       14.600          Low Fat         0.025698   \n",
      "23             FDC37        0.000          Low Fat         0.057557   \n",
      "24             FDR28       13.850          Regular         0.025896   \n",
      "25             NCD06       13.000          Low Fat         0.099887   \n",
      "26             FDV10        7.645          Regular         0.066693   \n",
      "27             DRJ59       11.650          low fat         0.019356   \n",
      "28             FDE51        5.925          Regular         0.161467   \n",
      "29             FDC14        0.000          Regular         0.072222   \n",
      "...              ...          ...              ...              ...   \n",
      "8493           FDP21        7.420          Regular         0.025886   \n",
      "8494           NCI54       15.200          Low Fat         0.000000   \n",
      "8495           FDE22        9.695          Low Fat         0.029567   \n",
      "8496           FDJ57        7.420          Regular         0.021696   \n",
      "8497           FDT08       13.650          Low Fat         0.049209   \n",
      "8498           NCP54       15.350          Low Fat         0.035293   \n",
      "8499           NCK53       11.600          Low Fat         0.037574   \n",
      "8500           NCQ42       20.350          Low Fat         0.000000   \n",
      "8501           FDW21        5.340          Regular         0.005998   \n",
      "8502           NCH43        8.420          Low Fat         0.070712   \n",
      "8503           FDQ44       20.500          Low Fat         0.036133   \n",
      "8504           NCN18        0.000          Low Fat         0.124111   \n",
      "8505           FDB46       10.500          Regular         0.094146   \n",
      "8506           DRF37       17.250          Low Fat         0.084676   \n",
      "8507           FDN28        5.880          Regular         0.030242   \n",
      "8508           FDW31       11.350          Regular         0.043246   \n",
      "8509           FDG45        8.100          Low Fat         0.214306   \n",
      "8510           FDN58       13.800          Regular         0.056862   \n",
      "8511           FDF05       17.500          Low Fat         0.026980   \n",
      "8512           FDR26       20.700          Low Fat         0.042801   \n",
      "8513           FDH31       12.000          Regular         0.020407   \n",
      "8514           FDA01       15.000          Regular         0.054489   \n",
      "8515           FDH24       20.700          Low Fat         0.021518   \n",
      "8516           NCJ19       18.600          Low Fat         0.118661   \n",
      "8517           FDF53       20.750              reg         0.083607   \n",
      "8518           FDF22        6.865          Low Fat         0.056783   \n",
      "8519           FDS36        8.380          Regular         0.046982   \n",
      "8520           NCJ29       10.600          Low Fat         0.035186   \n",
      "8521           FDN46        7.210          Regular         0.145221   \n",
      "8522           DRG01       14.800          Low Fat         0.044878   \n",
      "\n",
      "                  Item_Type  Item_MRP Outlet_Identifier  \\\n",
      "0                     Dairy  249.8092            OUT049   \n",
      "1               Soft Drinks   48.2692            OUT018   \n",
      "2                      Meat  141.6180            OUT049   \n",
      "3     Fruits and Vegetables  182.0950            OUT010   \n",
      "4                 Household   53.8614            OUT013   \n",
      "5              Baking Goods   51.4008            OUT018   \n",
      "6               Snack Foods   57.6588            OUT013   \n",
      "7               Snack Foods  107.7622            OUT027   \n",
      "8              Frozen Foods   96.9726            OUT045   \n",
      "9              Frozen Foods  187.8214            OUT017   \n",
      "10    Fruits and Vegetables   45.5402            OUT049   \n",
      "11                    Dairy  144.1102            OUT046   \n",
      "12    Fruits and Vegetables  145.4786            OUT049   \n",
      "13              Snack Foods  119.6782            OUT046   \n",
      "14    Fruits and Vegetables  196.4426            OUT013   \n",
      "15                Breakfast   56.3614            OUT046   \n",
      "16       Health and Hygiene  115.3492            OUT018   \n",
      "17                Breakfast   54.3614            OUT049   \n",
      "18              Hard Drinks  113.2834            OUT027   \n",
      "19                    Dairy  230.5352            OUT035   \n",
      "20              Snack Foods  250.8724            OUT013   \n",
      "21             Baking Goods  144.5444            OUT027   \n",
      "22                Household  196.5084            OUT035   \n",
      "23             Baking Goods  107.6938            OUT019   \n",
      "24             Frozen Foods  165.0210            OUT046   \n",
      "25                Household   45.9060            OUT017   \n",
      "26              Snack Foods   42.3112            OUT035   \n",
      "27              Hard Drinks   39.1164            OUT013   \n",
      "28                    Dairy   45.5086            OUT010   \n",
      "29                   Canned   43.6454            OUT019   \n",
      "...                     ...       ...               ...   \n",
      "8493            Snack Foods  189.1872            OUT017   \n",
      "8494              Household  110.4912            OUT017   \n",
      "8495            Snack Foods  160.4920            OUT035   \n",
      "8496                Seafood  185.3582            OUT017   \n",
      "8497  Fruits and Vegetables  150.0050            OUT035   \n",
      "8498              Household  124.5730            OUT018   \n",
      "8499     Health and Hygiene  100.0042            OUT035   \n",
      "8500              Household  125.1678            OUT017   \n",
      "8501            Snack Foods  100.4358            OUT017   \n",
      "8502              Household  216.4192            OUT045   \n",
      "8503  Fruits and Vegetables  120.1756            OUT035   \n",
      "8504              Household  111.7544            OUT027   \n",
      "8505            Snack Foods  210.8244            OUT018   \n",
      "8506            Soft Drinks  263.1910            OUT018   \n",
      "8507           Frozen Foods  101.7990            OUT035   \n",
      "8508  Fruits and Vegetables  199.4742            OUT045   \n",
      "8509  Fruits and Vegetables  213.9902            OUT010   \n",
      "8510            Snack Foods  231.5984            OUT035   \n",
      "8511           Frozen Foods  262.5910            OUT018   \n",
      "8512                  Dairy  178.3028            OUT013   \n",
      "8513                   Meat   99.9042            OUT035   \n",
      "8514                 Canned   57.5904            OUT045   \n",
      "8515           Baking Goods  157.5288            OUT018   \n",
      "8516                 Others   58.7588            OUT018   \n",
      "8517           Frozen Foods  178.8318            OUT046   \n",
      "8518            Snack Foods  214.5218            OUT013   \n",
      "8519           Baking Goods  108.1570            OUT045   \n",
      "8520     Health and Hygiene   85.1224            OUT035   \n",
      "8521            Snack Foods  103.1332            OUT018   \n",
      "8522            Soft Drinks   75.4670            OUT046   \n",
      "\n",
      "      Outlet_Establishment_Year Outlet_Size Outlet_Location_Type  \\\n",
      "0                          1999      Medium               Tier 1   \n",
      "1                          2009      Medium               Tier 3   \n",
      "2                          1999      Medium               Tier 1   \n",
      "3                          1998           0               Tier 3   \n",
      "4                          1987        High               Tier 3   \n",
      "5                          2009      Medium               Tier 3   \n",
      "6                          1987        High               Tier 3   \n",
      "7                          1985      Medium               Tier 3   \n",
      "8                          2002           0               Tier 2   \n",
      "9                          2007           0               Tier 2   \n",
      "10                         1999      Medium               Tier 1   \n",
      "11                         1997       Small               Tier 1   \n",
      "12                         1999      Medium               Tier 1   \n",
      "13                         1997       Small               Tier 1   \n",
      "14                         1987        High               Tier 3   \n",
      "15                         1997       Small               Tier 1   \n",
      "16                         2009      Medium               Tier 3   \n",
      "17                         1999      Medium               Tier 1   \n",
      "18                         1985      Medium               Tier 3   \n",
      "19                         2004       Small               Tier 2   \n",
      "20                         1987        High               Tier 3   \n",
      "21                         1985      Medium               Tier 3   \n",
      "22                         2004       Small               Tier 2   \n",
      "23                         1985       Small               Tier 1   \n",
      "24                         1997       Small               Tier 1   \n",
      "25                         2007           0               Tier 2   \n",
      "26                         2004       Small               Tier 2   \n",
      "27                         1987        High               Tier 3   \n",
      "28                         1998           0               Tier 3   \n",
      "29                         1985       Small               Tier 1   \n",
      "...                         ...         ...                  ...   \n",
      "8493                       2007           0               Tier 2   \n",
      "8494                       2007           0               Tier 2   \n",
      "8495                       2004       Small               Tier 2   \n",
      "8496                       2007           0               Tier 2   \n",
      "8497                       2004       Small               Tier 2   \n",
      "8498                       2009      Medium               Tier 3   \n",
      "8499                       2004       Small               Tier 2   \n",
      "8500                       2007           0               Tier 2   \n",
      "8501                       2007           0               Tier 2   \n",
      "8502                       2002           0               Tier 2   \n",
      "8503                       2004       Small               Tier 2   \n",
      "8504                       1985      Medium               Tier 3   \n",
      "8505                       2009      Medium               Tier 3   \n",
      "8506                       2009      Medium               Tier 3   \n",
      "8507                       2004       Small               Tier 2   \n",
      "8508                       2002           0               Tier 2   \n",
      "8509                       1998           0               Tier 3   \n",
      "8510                       2004       Small               Tier 2   \n",
      "8511                       2009      Medium               Tier 3   \n",
      "8512                       1987        High               Tier 3   \n",
      "8513                       2004       Small               Tier 2   \n",
      "8514                       2002           0               Tier 2   \n",
      "8515                       2009      Medium               Tier 3   \n",
      "8516                       2009      Medium               Tier 3   \n",
      "8517                       1997       Small               Tier 1   \n",
      "8518                       1987        High               Tier 3   \n",
      "8519                       2002           0               Tier 2   \n",
      "8520                       2004       Small               Tier 2   \n",
      "8521                       2009      Medium               Tier 3   \n",
      "8522                       1997       Small               Tier 1   \n",
      "\n",
      "            Outlet_Type  Item_Outlet_Sales  \n",
      "0     Supermarket Type1          3735.1380  \n",
      "1     Supermarket Type2           443.4228  \n",
      "2     Supermarket Type1          2097.2700  \n",
      "3         Grocery Store           732.3800  \n",
      "4     Supermarket Type1           994.7052  \n",
      "5     Supermarket Type2           556.6088  \n",
      "6     Supermarket Type1           343.5528  \n",
      "7     Supermarket Type3          4022.7636  \n",
      "8     Supermarket Type1          1076.5986  \n",
      "9     Supermarket Type1          4710.5350  \n",
      "10    Supermarket Type1          1516.0266  \n",
      "11    Supermarket Type1          2187.1530  \n",
      "12    Supermarket Type1          1589.2646  \n",
      "13    Supermarket Type1          2145.2076  \n",
      "14    Supermarket Type1          1977.4260  \n",
      "15    Supermarket Type1          1547.3192  \n",
      "16    Supermarket Type2          1621.8888  \n",
      "17    Supermarket Type1           718.3982  \n",
      "18    Supermarket Type3          2303.6680  \n",
      "19    Supermarket Type1          2748.4224  \n",
      "20    Supermarket Type1          3775.0860  \n",
      "21    Supermarket Type3          4064.0432  \n",
      "22    Supermarket Type1          1587.2672  \n",
      "23        Grocery Store           214.3876  \n",
      "24    Supermarket Type1          4078.0250  \n",
      "25    Supermarket Type1           838.9080  \n",
      "26    Supermarket Type1          1065.2800  \n",
      "27    Supermarket Type1           308.9312  \n",
      "28        Grocery Store           178.4344  \n",
      "29        Grocery Store           125.8362  \n",
      "...                 ...                ...  \n",
      "8493  Supermarket Type1          4727.1800  \n",
      "8494  Supermarket Type1          1637.8680  \n",
      "8495  Supermarket Type1          4314.3840  \n",
      "8496  Supermarket Type1          3715.1640  \n",
      "8497  Supermarket Type1          2247.0750  \n",
      "8498  Supermarket Type2          1601.2490  \n",
      "8499  Supermarket Type1          2976.1260  \n",
      "8500  Supermarket Type1          1907.5170  \n",
      "8501  Supermarket Type1          1508.0370  \n",
      "8502  Supermarket Type1          3020.0688  \n",
      "8503  Supermarket Type1          3392.9168  \n",
      "8504  Supermarket Type3          4138.6128  \n",
      "8505  Supermarket Type2          2117.2440  \n",
      "8506  Supermarket Type2          3944.8650  \n",
      "8507  Supermarket Type1           515.9950  \n",
      "8508  Supermarket Type1          2587.9646  \n",
      "8509      Grocery Store           424.7804  \n",
      "8510  Supermarket Type1          7182.6504  \n",
      "8511  Supermarket Type2          4207.8560  \n",
      "8512  Supermarket Type1          2479.4392  \n",
      "8513  Supermarket Type1           595.2252  \n",
      "8514  Supermarket Type1           468.7232  \n",
      "8515  Supermarket Type2          1571.2880  \n",
      "8516  Supermarket Type2           858.8820  \n",
      "8517  Supermarket Type1          3608.6360  \n",
      "8518  Supermarket Type1          2778.3834  \n",
      "8519  Supermarket Type1           549.2850  \n",
      "8520  Supermarket Type1          1193.1136  \n",
      "8521  Supermarket Type2          1845.5976  \n",
      "8522  Supermarket Type1           765.6700  \n",
      "\n",
      "[8523 rows x 12 columns]\n"
     ]
    }
   ],
   "source": [
    "print(df1)"
   ]
  },
  {
   "cell_type": "code",
   "execution_count": 11,
   "metadata": {},
   "outputs": [
    {
     "name": "stderr",
     "output_type": "stream",
     "text": [
      "C:\\Users\\hawk\\Anaconda3\\lib\\site-packages\\statsmodels\\nonparametric\\kde.py:448: RuntimeWarning: invalid value encountered in greater\n",
      "  X = X[np.logical_and(X > clip[0], X < clip[1])] # won't work for two columns.\n",
      "C:\\Users\\hawk\\Anaconda3\\lib\\site-packages\\statsmodels\\nonparametric\\kde.py:448: RuntimeWarning: invalid value encountered in less\n",
      "  X = X[np.logical_and(X > clip[0], X < clip[1])] # won't work for two columns.\n"
     ]
    },
    {
     "data": {
      "text/plain": [
       "<matplotlib.axes._subplots.AxesSubplot at 0x20629e94438>"
      ]
     },
     "execution_count": 11,
     "metadata": {},
     "output_type": "execute_result"
    },
    {
     "data": {
      "image/png": "[encoded data removed]",
      "text/plain": [
       "<Figure size 432x288 with 1 Axes>"
      ]
     },
     "metadata": {},
     "output_type": "display_data"
    }
   ],
   "source": [
    "sns.kdeplot(df['Item_Weight'])"
   ]
  },
  {
   "cell_type": "code",
   "execution_count": 12,
   "metadata": {},
   "outputs": [
    {
     "data": {
      "text/plain": [
       "<matplotlib.axes._subplots.AxesSubplot at 0x2062a0ceba8>"
      ]
     },
     "execution_count": 12,
     "metadata": {},
     "output_type": "execute_result"
    },
    {
     "data": {
      "image/png": "[encoded data removed]",
      "text/plain": [
       "<Figure size 432x288 with 1 Axes>"
      ]
     },
     "metadata": {},
     "output_type": "display_data"
    }
   ],
   "source": [
    "sns.kdeplot(df['Item_Visibility'])"
   ]
  },
  {
   "cell_type": "code",
   "execution_count": 13,
   "metadata": {},
   "outputs": [
    {
     "data": {
      "text/plain": [
       "<matplotlib.axes._subplots.AxesSubplot at 0x2062a156da0>"
      ]
     },
     "execution_count": 13,
     "metadata": {},
     "output_type": "execute_result"
    },
    {
     "data": {
      "image/png": "[encoded data removed]",
      "text/plain": [
       "<Figure size 432x288 with 1 Axes>"
      ]
     },
     "metadata": {},
     "output_type": "display_data"
    }
   ],
   "source": [
    "sns.kdeplot(df['Item_MRP'])"
   ]
  },
  {
   "cell_type": "code",
   "execution_count": 14,
   "metadata": {},
   "outputs": [
    {
     "data": {
      "text/plain": [
       "<matplotlib.axes._subplots.AxesSubplot at 0x2062a1ab2e8>"
      ]
     },
     "execution_count": 14,
     "metadata": {},
     "output_type": "execute_result"
    },
    {
     "data": {
      "image/png": "[encoded data removed]",
      "text/plain": [
       "<Figure size 432x288 with 1 Axes>"
      ]
     },
     "metadata": {},
     "output_type": "display_data"
    }
   ],
   "source": [
    "sns.kdeplot(df['Outlet_Establishment_Year'])"
   ]
  },
  {
   "cell_type": "code",
   "execution_count": 15,
   "metadata": {},
   "outputs": [
    {
     "data": {
      "text/plain": [
       "<matplotlib.axes._subplots.AxesSubplot at 0x2062a213748>"
      ]
     },
     "execution_count": 15,
     "metadata": {},
     "output_type": "execute_result"
    },
    {
     "data": {
      "image/png": "[encoded data removed]",
      "text/plain": [
       "<Figure size 432x288 with 1 Axes>"
      ]
     },
     "metadata": {},
     "output_type": "display_data"
    }
   ],
   "source": [
    "sns.kdeplot(df['Item_Outlet_Sales'])"
   ]
  },
  {
   "cell_type": "code",
   "execution_count": 16,
   "metadata": {},
   "outputs": [
    {
     "data": {
      "text/plain": [
       "array([[<matplotlib.axes._subplots.AxesSubplot object at 0x000002062A199EB8>,\n",
       "        <matplotlib.axes._subplots.AxesSubplot object at 0x000002062A2ACBE0>],\n",
       "       [<matplotlib.axes._subplots.AxesSubplot object at 0x000002062A2DE2B0>,\n",
       "        <matplotlib.axes._subplots.AxesSubplot object at 0x000002062A305940>],\n",
       "       [<matplotlib.axes._subplots.AxesSubplot object at 0x000002062A330FD0>,\n",
       "        <matplotlib.axes._subplots.AxesSubplot object at 0x000002062A338048>]],\n",
       "      dtype=object)"
      ]
     },
     "execution_count": 16,
     "metadata": {},
     "output_type": "execute_result"
    },
    {
     "data": {
      "image/png": "[encoded data removed]",
      "text/plain": [
       "<Figure size 864x288 with 6 Axes>"
      ]
     },
     "metadata": {},
     "output_type": "display_data"
    }
   ],
   "source": [
    "features=['Item_Weight','Item_Outlet_Sales','Outlet_Establishment_Year','Item_MRP','Item_Visibility']\n",
    "df[features].hist(figsize=(12,4))"
   ]
  },
  {
   "cell_type": "code",
   "execution_count": 17,
   "metadata": {},
   "outputs": [
    {
     "data": {
      "text/plain": [
       "<matplotlib.axes._subplots.AxesSubplot at 0x2062a3d6a58>"
      ]
     },
     "execution_count": 17,
     "metadata": {},
     "output_type": "execute_result"
    },
    {
     "data": {
      "image/png": "[encoded data removed]",
      "text/plain": [
       "<Figure size 432x288 with 1 Axes>"
      ]
     },
     "metadata": {},
     "output_type": "display_data"
    }
   ],
   "source": [
    "sns.boxplot(data=df1['Item_Visibility'])"
   ]
  },
  {
   "cell_type": "code",
   "execution_count": 18,
   "metadata": {},
   "outputs": [
    {
     "data": {
      "text/plain": [
       "<matplotlib.axes._subplots.AxesSubplot at 0x2062a50b240>"
      ]
     },
     "execution_count": 18,
     "metadata": {},
     "output_type": "execute_result"
    },
    {
     "data": {
      "image/png": "[encoded data removed]",
      "text/plain": [
       "<Figure size 432x288 with 1 Axes>"
      ]
     },
     "metadata": {},
     "output_type": "display_data"
    }
   ],
   "source": [
    "sns.boxplot(data=df1['Item_Weight'])\n",
    "\n"
   ]
  },
  {
   "cell_type": "code",
   "execution_count": 19,
   "metadata": {},
   "outputs": [
    {
     "data": {
      "text/plain": [
       "<matplotlib.axes._subplots.AxesSubplot at 0x2062a558eb8>"
      ]
     },
     "execution_count": 19,
     "metadata": {},
     "output_type": "execute_result"
    },
    {
     "data": {
      "image/png": "[encoded data removed]",
      "text/plain": [
       "<Figure size 432x288 with 1 Axes>"
      ]
     },
     "metadata": {},
     "output_type": "display_data"
    }
   ],
   "source": [
    "sns.boxplot(data=df1['Item_MRP'])"
   ]
  },
  {
   "cell_type": "code",
   "execution_count": 20,
   "metadata": {},
   "outputs": [
    {
     "data": {
      "text/plain": [
       "<matplotlib.axes._subplots.AxesSubplot at 0x2062a5afbe0>"
      ]
     },
     "execution_count": 20,
     "metadata": {},
     "output_type": "execute_result"
    },
    {
     "data": {
      "image/png": "[encoded data removed]",
      "text/plain": [
       "<Figure size 432x288 with 1 Axes>"
      ]
     },
     "metadata": {},
     "output_type": "display_data"
    }
   ],
   "source": [
    "sns.boxplot(data=df1['Outlet_Establishment_Year'])"
   ]
  },
  {
   "cell_type": "code",
   "execution_count": 21,
   "metadata": {},
   "outputs": [
    {
     "data": {
      "text/plain": [
       "<matplotlib.axes._subplots.AxesSubplot at 0x2062a612940>"
      ]
     },
     "execution_count": 21,
     "metadata": {},
     "output_type": "execute_result"
    },
    {
     "data": {
      "image/png": "[encoded data removed]",
      "text/plain": [
       "<Figure size 432x288 with 1 Axes>"
      ]
     },
     "metadata": {},
     "output_type": "display_data"
    }
   ],
   "source": [
    "sns.boxplot(data=df1['Item_Outlet_Sales'])"
   ]
  },
  {
   "cell_type": "code",
   "execution_count": null,
   "metadata": {},
   "outputs": [],
   "source": [
    "plt.rcParams['figure.figsize']=(8,6)\n",
    "sns.countplot(x='Item_Weight',hue='Item_Outlet_Sales',data=df1)"
   ]
  },
  {
   "cell_type": "code",
   "execution_count": null,
   "metadata": {},
   "outputs": [],
   "source": [
    "sns.heatmap(df.corr())"
   ]
  },
  {
   "cell_type": "code",
   "execution_count": null,
   "metadata": {},
   "outputs": [],
   "source": [
    "from sklearn import datasets\n",
    "from sklearn import metrics"
   ]
  },
  {
   "cell_type": "code",
   "execution_count": null,
   "metadata": {},
   "outputs": [],
   "source": [
    "sns.boxplot(x='Item_Outlet_Sales',y='Item_MRP',data=df)"
   ]
  },
  {
   "cell_type": "code",
   "execution_count": null,
   "metadata": {},
   "outputs": [],
   "source": [
    "sns.heatmap(df.corr())"
   ]
  },
  {
   "cell_type": "code",
   "execution_count": null,
   "metadata": {},
   "outputs": [],
   "source": [
    "import pandas as pd\n",
    "import seaborn as sns\n",
    "import matplotlib.pyplot as plt\n",
    "df=pd.read_csv(\"mart.csv\")  \n",
    "from sklearn.feature_selection import VarianceThreshold\n",
    "selector= VarianceThreshold(0.5)\n",
    "selector.fit_transform(df[\"Item_Weight \"][\"Outlet_Size\"][\"Item_Visibility\"][\"Item_MRP\"][\"Item_Outlet_Sales\"])"
   ]
  },
  {
   "cell_type": "code",
   "execution_count": null,
   "metadata": {},
   "outputs": [],
   "source": [
    "import pandas as pd\n",
    "import seaborn as sns\n",
    "import matplotlib.pyplot as plt\n",
    "df=pd.read_csv(\"mart.csv\")  \n",
    "from sklearn.feature_selection import VarianceThreshold\n",
    "selector= VarianceThreshold(0.5)\n",
    "selector.fit_transform(df[\"Item_Weight \"][\"Outlet_Size\"][\"Item_Visibility\"][\"Item_MRP\"][\"Item_Outlet_Sales\"])"
   ]
  },
  {
   "cell_type": "code",
   "execution_count": null,
   "metadata": {},
   "outputs": [],
   "source": [
    "from sklearn.feature_selection import SelectKBest\n",
    "from sklearn.feature_selection import chi2\n",
    "X,y=df.data,df.target\n",
    "X_new= SelectKBest(chi2, k=2).fit_transform(X,y)\n",
    "X.shape,X_new.shape"
   ]
  },
  {
   "cell_type": "code",
   "execution_count": null,
   "metadata": {},
   "outputs": [],
   "source": [
    "from sklearn.linear_model import LinearRegression\n",
    "from sklearn.model_selection import train_test_split\n",
    "regressor= LinearRegression()\n",
    "X=dataset[['Item_Weight','Item_Visibility','Item_MRP','Item_Outlet_Sales','Outlet_Establishment_Year']]\n",
    "y=dataset[['Item_Outlet_Sales']]\n",
    "X_train,X_test,y_train,y_test= train_test_split(X,y,test_size=0.5,random_state=0)\n",
    "regressor.fit(X_train,y_train)"
   ]
  },
  {
   "cell_type": "code",
   "execution_count": null,
   "metadata": {},
   "outputs": [],
   "source": [
    "regressor.intercept_"
   ]
  },
  {
   "cell_type": "code",
   "execution_count": null,
   "metadata": {},
   "outputs": [],
   "source": [
    "regressor.coef_"
   ]
  },
  {
   "cell_type": "code",
   "execution_count": null,
   "metadata": {},
   "outputs": [],
   "source": [
    "y_pred=regressor.predict(X_test)"
   ]
  },
  {
   "cell_type": "code",
   "execution_count": null,
   "metadata": {},
   "outputs": [],
   "source": [
    "df=pd.Dataframe({'Actual':y_test, 'Predicted':y_pred})\n",
    "df"
   ]
  },
  {
   "cell_type": "code",
   "execution_count": null,
   "metadata": {},
   "outputs": [],
   "source": [
    "import numpy as np\n",
    "from sklearn import metrics\n",
    "print(\"Mean absolute error:\",metrics.mean_absolute_error(y_test,y_pred))\n",
    "print(\"Mean Squared error:\",metrics.mean_squared_error(y_test,y_pred))\n",
    "print(\" Root Means squared error:\",np.sqrt(metrics.mean_absolute_error(y_test,y_pred)))"
   ]
  },
  {
   "cell_type": "code",
   "execution_count": null,
   "metadata": {},
   "outputs": [],
   "source": []
  }
 ],
 "metadata": {
  "kernelspec": {
   "display_name": "Python 3",
   "language": "python",
   "name": "python3"
  },
  "language_info": {
   "codemirror_mode": {
    "name": "ipython",
    "version": 3
   },
   "file_extension": ".py",
   "mimetype": "text/x-python",
   "name": "python",
   "nbconvert_exporter": "python",
   "pygments_lexer": "ipython3",
   "version": "3.6.5"
  }
 },
 "nbformat": 4,
 "nbformat_minor": 2
}
