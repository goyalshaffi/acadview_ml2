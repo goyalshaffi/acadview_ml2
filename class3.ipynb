{
 "cells": [
  {
   "cell_type": "code",
   "execution_count": 3,
   "metadata": {},
   "outputs": [],
   "source": [
    "# question 1\n",
    "a=11/36  # P(A)\n",
    "b=6/36   # P(B)\n",
    "c=2/36   # P(A/B)"
   ]
  },
  {
   "cell_type": "code",
   "execution_count": 7,
   "metadata": {},
   "outputs": [],
   "source": [
    "def prob(a,b,c):\n",
    "    d=(c*a)/b\n",
    "    return d"
   ]
  },
  {
   "cell_type": "code",
   "execution_count": 12,
   "metadata": {},
   "outputs": [
    {
     "name": "stdout",
     "output_type": "stream",
     "text": [
      "0.9166666666666667\n"
     ]
    }
   ],
   "source": [
    "h=prob(a,b,c)\n",
    "print(h)"
   ]
  },
  {
   "cell_type": "code",
   "execution_count": 13,
   "metadata": {},
   "outputs": [],
   "source": [
    "# question 2\n",
    "z=6  # bag 1 contains black balls\n",
    "x=10  # total no of balls in bag 1\n",
    "v=3    # black balls in bag 2\n",
    "n=9    # total black balls\n",
    "m=17   # total balls\n"
   ]
  },
  {
   "cell_type": "code",
   "execution_count": 15,
   "metadata": {},
   "outputs": [],
   "source": [
    "l=6/10  #prob of bag having black ball\n",
    "k=9/17  # prob of black ball will drawn\n",
    "j=1/2   # prob that bag 1 will choosen\n",
    "def probs(l,k,j):\n",
    "    u=(l*k)/((i*k)+())\n",
    "    return u"
   ]
  },
  {
   "cell_type": "code",
   "execution_count": 18,
   "metadata": {},
   "outputs": [
    {
     "name": "stdout",
     "output_type": "stream",
     "text": [
      "0.6352941176470588\n"
     ]
    }
   ],
   "source": [
    "o=probs(l,k,j)\n",
    "print(o)"
   ]
  },
  {
   "cell_type": "code",
   "execution_count": 16,
   "metadata": {},
   "outputs": [],
   "source": [
    "Q=1/6 # prob that we get no 4 through dice   P(Q)\n",
    "W=5/6  #prob that we getnot no 4 through dice person of person speaking truth    P(W)\n",
    "E=2/3  # person of person speaking truth that no is 4    P(E/Q)\n",
    "R=1/3  #  personis not speaking truth that no is 4       P(E/W)\n",
    "def pro(Q,W,E,R):\n",
    "    T=(E*Q)/((E*Q)+(W*R))\n",
    "    return T"
   ]
  },
  {
   "cell_type": "code",
   "execution_count": 17,
   "metadata": {},
   "outputs": [
    {
     "name": "stdout",
     "output_type": "stream",
     "text": [
      "0.2857142857142857\n"
     ]
    }
   ],
   "source": [
    "Y=pro(Q,W,E,R)\n",
    "print(Y)"
   ]
  }
 ],
 "metadata": {
  "kernelspec": {
   "display_name": "Python 3",
   "language": "python",
   "name": "python3"
  },
  "language_info": {
   "codemirror_mode": {
    "name": "ipython",
    "version": 3
   },
   "file_extension": ".py",
   "mimetype": "text/x-python",
   "name": "python",
   "nbconvert_exporter": "python",
   "pygments_lexer": "ipython3",
   "version": "3.6.5"
  }
 },
 "nbformat": 4,
 "nbformat_minor": 2
}
